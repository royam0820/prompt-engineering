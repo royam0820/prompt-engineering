{
  "cells": [
    {
      "cell_type": "markdown",
      "metadata": {
        "id": "view-in-github",
        "colab_type": "text"
      },
      "source": [
        "<a href=\"https://colab.research.google.com/github/royam0820/prompt-engineering/blob/main/l3_iterative_prompt_development.ipynb\" target=\"_parent\"><img src=\"https://colab.research.google.com/assets/colab-badge.svg\" alt=\"Open In Colab\"/></a>"
      ]
    },
    {
      "cell_type": "markdown",
      "id": "b97ddf3b-d921-4169-9d82-b0ee95e9eccd",
      "metadata": {
        "id": "b97ddf3b-d921-4169-9d82-b0ee95e9eccd"
      },
      "source": [
        "# Iterative Prompt Development\n",
        "In this lesson, you'll iteratively analyze and refine your prompts to generate marketing copy from a product fact sheet.\n",
        "\n",
        "## Setup"
      ]
    },
    {
      "cell_type": "code",
      "source": [
        "!pip install openai"
      ],
      "metadata": {
        "colab": {
          "base_uri": "https://localhost:8080/"
        },
        "collapsed": true,
        "id": "Ued_418AogZz",
        "outputId": "c86946fc-f01c-43ae-966a-3d4a6633cea1"
      },
      "execution_count": null,
      "outputs": [
        {
          "output_type": "stream",
          "name": "stdout",
          "text": [
            "Requirement already satisfied: openai in /usr/local/lib/python3.10/dist-packages (1.34.0)\n",
            "Requirement already satisfied: anyio<5,>=3.5.0 in /usr/local/lib/python3.10/dist-packages (from openai) (3.7.1)\n",
            "Requirement already satisfied: distro<2,>=1.7.0 in /usr/lib/python3/dist-packages (from openai) (1.7.0)\n",
            "Requirement already satisfied: httpx<1,>=0.23.0 in /usr/local/lib/python3.10/dist-packages (from openai) (0.27.0)\n",
            "Requirement already satisfied: pydantic<3,>=1.9.0 in /usr/local/lib/python3.10/dist-packages (from openai) (2.7.3)\n",
            "Requirement already satisfied: sniffio in /usr/local/lib/python3.10/dist-packages (from openai) (1.3.1)\n",
            "Requirement already satisfied: tqdm>4 in /usr/local/lib/python3.10/dist-packages (from openai) (4.66.4)\n",
            "Requirement already satisfied: typing-extensions<5,>=4.7 in /usr/local/lib/python3.10/dist-packages (from openai) (4.12.2)\n",
            "Requirement already satisfied: idna>=2.8 in /usr/local/lib/python3.10/dist-packages (from anyio<5,>=3.5.0->openai) (3.7)\n",
            "Requirement already satisfied: exceptiongroup in /usr/local/lib/python3.10/dist-packages (from anyio<5,>=3.5.0->openai) (1.2.1)\n",
            "Requirement already satisfied: certifi in /usr/local/lib/python3.10/dist-packages (from httpx<1,>=0.23.0->openai) (2024.6.2)\n",
            "Requirement already satisfied: httpcore==1.* in /usr/local/lib/python3.10/dist-packages (from httpx<1,>=0.23.0->openai) (1.0.5)\n",
            "Requirement already satisfied: h11<0.15,>=0.13 in /usr/local/lib/python3.10/dist-packages (from httpcore==1.*->httpx<1,>=0.23.0->openai) (0.14.0)\n",
            "Requirement already satisfied: annotated-types>=0.4.0 in /usr/local/lib/python3.10/dist-packages (from pydantic<3,>=1.9.0->openai) (0.7.0)\n",
            "Requirement already satisfied: pydantic-core==2.18.4 in /usr/local/lib/python3.10/dist-packages (from pydantic<3,>=1.9.0->openai) (2.18.4)\n"
          ]
        }
      ],
      "id": "Ued_418AogZz"
    },
    {
      "cell_type": "code",
      "source": [
        "import openai\n",
        "import os\n",
        "from google.colab import userdata"
      ],
      "metadata": {
        "id": "m39DjFvJoI0H"
      },
      "execution_count": null,
      "outputs": [],
      "id": "m39DjFvJoI0H"
    },
    {
      "cell_type": "code",
      "source": [
        "from pprint import pprint"
      ],
      "metadata": {
        "id": "FBexQysn5fl5"
      },
      "id": "FBexQysn5fl5",
      "execution_count": 17,
      "outputs": []
    },
    {
      "cell_type": "code",
      "source": [
        "print(openai.__version__)"
      ],
      "metadata": {
        "colab": {
          "base_uri": "https://localhost:8080/"
        },
        "id": "dswy5j-noziQ",
        "outputId": "67c50bf7-0f57-472f-ad5f-74496c280681"
      },
      "execution_count": null,
      "outputs": [
        {
          "output_type": "stream",
          "name": "stdout",
          "text": [
            "1.34.0\n"
          ]
        }
      ],
      "id": "dswy5j-noziQ"
    },
    {
      "cell_type": "code",
      "source": [
        "openai_api_key = userdata.get(\"OPENAI_API_KEY\")\n",
        "os.environ[\"OPENAI_API_KEY\"] = openai_api_key"
      ],
      "metadata": {
        "id": "JzhXT5sAnTLA"
      },
      "execution_count": null,
      "outputs": [],
      "id": "JzhXT5sAnTLA"
    },
    {
      "cell_type": "code",
      "execution_count": null,
      "id": "9fb6f2de",
      "metadata": {
        "tags": [],
        "id": "9fb6f2de"
      },
      "outputs": [],
      "source": [
        "def get_completion(prompt, model=\"gpt-3.5-turbo\"):\n",
        "    messages = [{\"role\": \"user\", \"content\": prompt}]\n",
        "    response = openai.ChatCompletion.create(\n",
        "        model=model,\n",
        "        messages=messages,\n",
        "        temperature=0, # this is the degree of randomness of the model's output\n",
        "    )\n",
        "    return response.choices[0].message[\"content\"]"
      ]
    },
    {
      "cell_type": "markdown",
      "id": "ffc2b32f-73da-4ef0-81f6-0c7bff70783d",
      "metadata": {
        "id": "ffc2b32f-73da-4ef0-81f6-0c7bff70783d"
      },
      "source": [
        "**Note**: In June 2023, OpenAI updated gpt-3.5-turbo. The results you see in the notebook may be slightly different than those in the video. Some of the prompts have also been slightly modified to product the desired results."
      ]
    },
    {
      "cell_type": "markdown",
      "id": "71d1a1df-03c3-4f38-af6d-3962362f3dcd",
      "metadata": {
        "id": "71d1a1df-03c3-4f38-af6d-3962362f3dcd"
      },
      "source": [
        "## Generate a marketing product description from a product fact sheet"
      ]
    },
    {
      "cell_type": "code",
      "execution_count": 10,
      "id": "5be90e47",
      "metadata": {
        "tags": [],
        "id": "5be90e47"
      },
      "outputs": [],
      "source": [
        "fact_sheet_chair = \"\"\"\n",
        "OVERVIEW\n",
        "- Part of a beautiful family of mid-century inspired office furniture,\n",
        "including filing cabinets, desks, bookcases, meeting tables, and more.\n",
        "- Several options of shell color and base finishes.\n",
        "- Available with plastic back and front upholstery (SWC-100)\n",
        "or full upholstery (SWC-110) in 10 fabric and 6 leather options.\n",
        "- Base finish options are: stainless steel, matte black,\n",
        "gloss white, or chrome.\n",
        "- Chair is available with or without armrests.\n",
        "- Suitable for home or business settings.\n",
        "- Qualified for contract use.\n",
        "\n",
        "CONSTRUCTION\n",
        "- 5-wheel plastic coated aluminum base.\n",
        "- Pneumatic chair adjust for easy raise/lower action.\n",
        "\n",
        "DIMENSIONS\n",
        "- WIDTH 53 CM | 20.87”\n",
        "- DEPTH 51 CM | 20.08”\n",
        "- HEIGHT 80 CM | 31.50”\n",
        "- SEAT HEIGHT 44 CM | 17.32”\n",
        "- SEAT DEPTH 41 CM | 16.14”\n",
        "\n",
        "OPTIONS\n",
        "- Soft or hard-floor caster options.\n",
        "- Two choices of seat foam densities:\n",
        " medium (1.8 lb/ft3) or high (2.8 lb/ft3)\n",
        "- Armless or 8 position PU armrests\n",
        "\n",
        "MATERIALS\n",
        "SHELL BASE GLIDER\n",
        "- Cast Aluminum with modified nylon PA6/PA66 coating.\n",
        "- Shell thickness: 10 mm.\n",
        "SEAT\n",
        "- HD36 foam\n",
        "\n",
        "COUNTRY OF ORIGIN\n",
        "- Italy\n",
        "\"\"\""
      ]
    },
    {
      "cell_type": "code",
      "execution_count": 18,
      "id": "4f656d0c",
      "metadata": {
        "tags": [],
        "id": "4f656d0c",
        "colab": {
          "base_uri": "https://localhost:8080/"
        },
        "outputId": "53b95f3b-7bf7-4c9d-f338-d96de34a2f2d"
      },
      "outputs": [
        {
          "output_type": "stream",
          "name": "stdout",
          "text": [
            "('Introducing our stylish and versatile mid-century inspired office chair, '\n",
            " 'perfect for both home and business settings. This chair is part of a '\n",
            " 'beautiful family of office furniture that includes filing cabinets, desks, '\n",
            " 'bookcases, meeting tables, and more.\\n'\n",
            " '\\n'\n",
            " 'Customize your chair with several options of shell color and base finishes '\n",
            " 'to suit your personal style. Choose between plastic back and front '\n",
            " 'upholstery or full upholstery in a variety of fabric and leather options. '\n",
            " 'The chair is also available with or without armrests, giving you the '\n",
            " 'flexibility to create the perfect seating solution for your space.\\n'\n",
            " '\\n'\n",
            " 'Constructed with a durable 5-wheel plastic coated aluminum base, this chair '\n",
            " 'features a pneumatic adjust for easy raise/lower action. The dimensions of '\n",
            " 'the chair are as follows: width 53 cm, depth 51 cm, height 80 cm, seat '\n",
            " 'height 44 cm, and seat depth 41 cm.\\n'\n",
            " '\\n'\n",
            " 'Choose between soft or hard-floor caster options and two seat foam '\n",
            " 'densities: medium or high. The chair is made with high-quality materials, '\n",
            " 'including a cast aluminum shell with modified nylon coating and HD36 foam '\n",
            " 'seat.\\n'\n",
            " '\\n'\n",
            " 'Designed and crafted in Italy, this chair is not only stylish but also built '\n",
            " 'to last. Elevate your workspace with our mid-century inspired office chair '\n",
            " 'today!')\n"
          ]
        }
      ],
      "source": [
        "prompt = f\"\"\"\n",
        "Your task is to help a marketing team create a\n",
        "description for a retail website of a product based\n",
        "on a technical fact sheet.\n",
        "\n",
        "Write a product description based on the information\n",
        "provided in the technical specifications delimited by\n",
        "triple backticks.\n",
        "\n",
        "Technical specifications: ```{fact_sheet_chair}```\n",
        "\"\"\"\n",
        "response = get_completion(prompt)\n",
        "pprint(response)\n"
      ]
    },
    {
      "cell_type": "markdown",
      "id": "e1361d6f-6022-4b7a-8107-b2e2ff5efd32",
      "metadata": {
        "id": "e1361d6f-6022-4b7a-8107-b2e2ff5efd32"
      },
      "source": [
        "## Issue 1: The text is too long\n",
        "- Limit the number of words/sentences/characters."
      ]
    },
    {
      "cell_type": "code",
      "execution_count": 19,
      "id": "f6129532",
      "metadata": {
        "tags": [],
        "id": "f6129532",
        "colab": {
          "base_uri": "https://localhost:8080/"
        },
        "outputId": "088c35c3-3171-47af-f34f-4bcc8fc0fa7a"
      },
      "outputs": [
        {
          "output_type": "stream",
          "name": "stdout",
          "text": [
            "('Introducing our versatile and stylish office chair, part of a mid-century '\n",
            " 'inspired furniture collection. Available in various colors and finishes, '\n",
            " 'with options for upholstery and armrests. Designed for both home and '\n",
            " 'business use, with a durable construction and adjustable height feature. '\n",
            " 'Made in Italy for quality assurance.')\n"
          ]
        }
      ],
      "source": [
        "prompt = f\"\"\"\n",
        "Your task is to help a marketing team create a\n",
        "description for a retail website of a product based\n",
        "on a technical fact sheet.\n",
        "\n",
        "Write a product description based on the information\n",
        "provided in the technical specifications delimited by\n",
        "triple backticks.\n",
        "\n",
        "Use at most 50 words.\n",
        "\n",
        "Technical specifications: ```{fact_sheet_chair}```\n",
        "\"\"\"\n",
        "response = get_completion(prompt)\n",
        "pprint(response)\n"
      ]
    },
    {
      "cell_type": "code",
      "execution_count": 13,
      "id": "17f658d0",
      "metadata": {
        "tags": [],
        "id": "17f658d0",
        "colab": {
          "base_uri": "https://localhost:8080/"
        },
        "outputId": "f8b909b4-d752-4323-8d68-3f91d0e479f9"
      },
      "outputs": [
        {
          "output_type": "execute_result",
          "data": {
            "text/plain": [
              "47"
            ]
          },
          "metadata": {},
          "execution_count": 13
        }
      ],
      "source": [
        "len(response.split())"
      ]
    },
    {
      "cell_type": "markdown",
      "id": "a6de9c92-857c-4d1c-8fd1-192cf47c4763",
      "metadata": {
        "id": "a6de9c92-857c-4d1c-8fd1-192cf47c4763"
      },
      "source": [
        "## Issue 2. Text focuses on the wrong details\n",
        "- Ask it to focus on the aspects that are relevant to the intended audience."
      ]
    },
    {
      "cell_type": "code",
      "execution_count": 20,
      "id": "954a8a06",
      "metadata": {
        "tags": [],
        "id": "954a8a06",
        "colab": {
          "base_uri": "https://localhost:8080/"
        },
        "outputId": "f16afce5-3bdc-44da-8f2b-eebeac2b5f28"
      },
      "outputs": [
        {
          "output_type": "stream",
          "name": "stdout",
          "text": [
            "('Introducing our versatile and stylish office chair, part of a mid-century '\n",
            " 'inspired furniture collection. Constructed with a durable cast aluminum '\n",
            " 'shell and base glider coated with modified nylon PA6/PA66. The seat features '\n",
            " 'high-density HD36 foam for maximum comfort. Made in Italy, perfect for home '\n",
            " 'or business use.')\n"
          ]
        }
      ],
      "source": [
        "prompt = f\"\"\"\n",
        "Your task is to help a marketing team create a\n",
        "description for a retail website of a product based\n",
        "on a technical fact sheet.\n",
        "\n",
        "Write a product description based on the information\n",
        "provided in the technical specifications delimited by\n",
        "triple backticks.\n",
        "\n",
        "The description is intended for furniture retailers,\n",
        "so should be technical in nature and focus on the\n",
        "materials the product is constructed from.\n",
        "\n",
        "Use at most 50 words.\n",
        "\n",
        "Technical specifications: ```{fact_sheet_chair}```\n",
        "\"\"\"\n",
        "response = get_completion(prompt)\n",
        "pprint(response)"
      ]
    },
    {
      "cell_type": "code",
      "execution_count": 21,
      "id": "e9455d58",
      "metadata": {
        "tags": [],
        "id": "e9455d58",
        "colab": {
          "base_uri": "https://localhost:8080/"
        },
        "outputId": "30ed9d1c-616d-4da5-8694-ff88f5d7ee18"
      },
      "outputs": [
        {
          "output_type": "stream",
          "name": "stdout",
          "text": [
            "('Introducing our versatile mid-century office chair, featuring a durable '\n",
            " 'aluminum base with 5-wheel design and adjustable pneumatic height. Choose '\n",
            " 'from a variety of shell colors and base finishes, with options for '\n",
            " 'upholstery in fabric or leather. Perfect for home or business use. Product '\n",
            " 'ID: SWC-100, SWC-110.')\n"
          ]
        }
      ],
      "source": [
        "prompt = f\"\"\"\n",
        "Your task is to help a marketing team create a\n",
        "description for a retail website of a product based\n",
        "on a technical fact sheet.\n",
        "\n",
        "Write a product description based on the information\n",
        "provided in the technical specifications delimited by\n",
        "triple backticks.\n",
        "\n",
        "The description is intended for furniture retailers,\n",
        "so should be technical in nature and focus on the\n",
        "materials the product is constructed from.\n",
        "\n",
        "At the end of the description, include every 7-character\n",
        "Product ID in the technical specification.\n",
        "\n",
        "Use at most 50 words.\n",
        "\n",
        "Technical specifications: ```{fact_sheet_chair}```\n",
        "\"\"\"\n",
        "response = get_completion(prompt)\n",
        "pprint(response)"
      ]
    },
    {
      "cell_type": "markdown",
      "id": "5be496d5-54c9-443b-8116-0b3d3d9dc560",
      "metadata": {
        "id": "5be496d5-54c9-443b-8116-0b3d3d9dc560"
      },
      "source": [
        "## Issue 3. Description needs a table of dimensions\n",
        "- Ask it to extract information and organize it in a table."
      ]
    },
    {
      "cell_type": "code",
      "execution_count": 22,
      "id": "0384f1e4",
      "metadata": {
        "tags": [],
        "id": "0384f1e4",
        "colab": {
          "base_uri": "https://localhost:8080/"
        },
        "outputId": "bd6ae1a4-c116-4620-896f-30ad7b6fee34"
      },
      "outputs": [
        {
          "output_type": "stream",
          "name": "stdout",
          "text": [
            "('<div>\\n'\n",
            " '  <p>This mid-century inspired office chair is a stylish and versatile '\n",
            " 'addition to any workspace. With options for shell color, base finish, and '\n",
            " 'upholstery type, you can customize this chair to fit your aesthetic '\n",
            " 'perfectly. The chair is constructed with a durable 5-wheel plastic coated '\n",
            " 'aluminum base and features a pneumatic adjustment for easy height changes. '\n",
            " 'Whether you choose the plastic back and front upholstery or the full '\n",
            " 'upholstery option, this chair is suitable for both home and business '\n",
            " 'settings. Made in Italy, this chair is not only stylish but also built to '\n",
            " 'last.</p>\\n'\n",
            " '  \\n'\n",
            " '  <p>Product IDs: SWC-100, SWC-110</p>\\n'\n",
            " '  \\n'\n",
            " '  <h2>Product Dimensions</h2>\\n'\n",
            " '  <table>\\n'\n",
            " '    <tr>\\n'\n",
            " '      <td>WIDTH</td>\\n'\n",
            " '      <td>20.87\"</td>\\n'\n",
            " '    </tr>\\n'\n",
            " '    <tr>\\n'\n",
            " '      <td>DEPTH</td>\\n'\n",
            " '      <td>20.08\"</td>\\n'\n",
            " '    </tr>\\n'\n",
            " '    <tr>\\n'\n",
            " '      <td>HEIGHT</td>\\n'\n",
            " '      <td>31.50\"</td>\\n'\n",
            " '    </tr>\\n'\n",
            " '    <tr>\\n'\n",
            " '      <td>SEAT HEIGHT</td>\\n'\n",
            " '      <td>17.32\"</td>\\n'\n",
            " '    </tr>\\n'\n",
            " '    <tr>\\n'\n",
            " '      <td>SEAT DEPTH</td>\\n'\n",
            " '      <td>16.14\"</td>\\n'\n",
            " '    </tr>\\n'\n",
            " '  </table>\\n'\n",
            " '</div>')\n"
          ]
        }
      ],
      "source": [
        "prompt = f\"\"\"\n",
        "Your task is to help a marketing team create a\n",
        "description for a retail website of a product based\n",
        "on a technical fact sheet.\n",
        "\n",
        "Write a product description based on the information\n",
        "provided in the technical specifications delimited by\n",
        "triple backticks.\n",
        "\n",
        "The description is intended for furniture retailers,\n",
        "so should be technical in nature and focus on the\n",
        "materials the product is constructed from.\n",
        "\n",
        "At the end of the description, include every 7-character\n",
        "Product ID in the technical specification.\n",
        "\n",
        "After the description, include a table that gives the\n",
        "product's dimensions. The table should have two columns.\n",
        "In the first column include the name of the dimension.\n",
        "In the second column include the measurements in inches only.\n",
        "\n",
        "Give the table the title 'Product Dimensions'.\n",
        "\n",
        "Format everything as HTML that can be used in a website.\n",
        "Place the description in a <div> element.\n",
        "\n",
        "Technical specifications: ```{fact_sheet_chair}```\n",
        "\"\"\"\n",
        "\n",
        "response = get_completion(prompt)\n",
        "pprint(response)"
      ]
    },
    {
      "cell_type": "markdown",
      "id": "d681db67-6d59-40c1-a36b-4d76729a690d",
      "metadata": {
        "id": "d681db67-6d59-40c1-a36b-4d76729a690d"
      },
      "source": [
        "## Load Python libraries to view HTML"
      ]
    },
    {
      "cell_type": "code",
      "execution_count": 23,
      "id": "73ff0052",
      "metadata": {
        "tags": [],
        "id": "73ff0052"
      },
      "outputs": [],
      "source": [
        "from IPython.display import display, HTML"
      ]
    },
    {
      "cell_type": "code",
      "execution_count": 24,
      "id": "3465ffce",
      "metadata": {
        "tags": [],
        "id": "3465ffce",
        "colab": {
          "base_uri": "https://localhost:8080/",
          "height": 255
        },
        "outputId": "6d2ebe57-82eb-42cf-f83e-078f337606b9"
      },
      "outputs": [
        {
          "output_type": "display_data",
          "data": {
            "text/plain": [
              "<IPython.core.display.HTML object>"
            ],
            "text/html": [
              "<div>\n",
              "  <p>This mid-century inspired office chair is a stylish and versatile addition to any workspace. With options for shell color, base finish, and upholstery type, you can customize this chair to fit your aesthetic perfectly. The chair is constructed with a durable 5-wheel plastic coated aluminum base and features a pneumatic adjustment for easy height changes. Whether you choose the plastic back and front upholstery or the full upholstery option, this chair is suitable for both home and business settings. Made in Italy, this chair is not only stylish but also built to last.</p>\n",
              "  \n",
              "  <p>Product IDs: SWC-100, SWC-110</p>\n",
              "  \n",
              "  <h2>Product Dimensions</h2>\n",
              "  <table>\n",
              "    <tr>\n",
              "      <td>WIDTH</td>\n",
              "      <td>20.87\"</td>\n",
              "    </tr>\n",
              "    <tr>\n",
              "      <td>DEPTH</td>\n",
              "      <td>20.08\"</td>\n",
              "    </tr>\n",
              "    <tr>\n",
              "      <td>HEIGHT</td>\n",
              "      <td>31.50\"</td>\n",
              "    </tr>\n",
              "    <tr>\n",
              "      <td>SEAT HEIGHT</td>\n",
              "      <td>17.32\"</td>\n",
              "    </tr>\n",
              "    <tr>\n",
              "      <td>SEAT DEPTH</td>\n",
              "      <td>16.14\"</td>\n",
              "    </tr>\n",
              "  </table>\n",
              "</div>"
            ]
          },
          "metadata": {}
        }
      ],
      "source": [
        "display(HTML(response))"
      ]
    },
    {
      "cell_type": "markdown",
      "id": "8ed02a02-9e12-4f63-97bd-f52064b18666",
      "metadata": {
        "id": "8ed02a02-9e12-4f63-97bd-f52064b18666"
      },
      "source": [
        "## Try experimenting on your own!"
      ]
    },
    {
      "cell_type": "code",
      "execution_count": null,
      "id": "dbe1f850",
      "metadata": {
        "id": "dbe1f850"
      },
      "outputs": [],
      "source": []
    }
  ],
  "metadata": {
    "kernelspec": {
      "display_name": "Python 3 (ipykernel)",
      "language": "python",
      "name": "python3"
    },
    "language_info": {
      "codemirror_mode": {
        "name": "ipython",
        "version": 3
      },
      "file_extension": ".py",
      "mimetype": "text/x-python",
      "name": "python",
      "nbconvert_exporter": "python",
      "pygments_lexer": "ipython3",
      "version": "3.8.10"
    },
    "colab": {
      "provenance": [],
      "include_colab_link": true
    }
  },
  "nbformat": 4,
  "nbformat_minor": 5
}