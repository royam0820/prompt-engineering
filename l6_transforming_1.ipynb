{
  "cells": [
    {
      "cell_type": "markdown",
      "metadata": {
        "id": "view-in-github",
        "colab_type": "text"
      },
      "source": [
        "<a href=\"https://colab.research.google.com/github/royam0820/prompt-engineering/blob/main/l6_transforming_1.ipynb\" target=\"_parent\"><img src=\"https://colab.research.google.com/assets/colab-badge.svg\" alt=\"Open In Colab\"/></a>"
      ]
    },
    {
      "cell_type": "markdown",
      "id": "e3993515-9710-4ac4-89e9-b35ebb81e920",
      "metadata": {
        "id": "e3993515-9710-4ac4-89e9-b35ebb81e920"
      },
      "source": [
        "# Transforming\n",
        "\n",
        "In this notebook, we will explore how to use Large Language Models for text transformation tasks such as language translation, spelling and grammar checking, tone adjustment, and format conversion.\n",
        "\n"
      ]
    },
    {
      "cell_type": "markdown",
      "source": [
        "In the context of prompt engineering, transforming refers to the process of **guiding an AI model to convert or alter data from one format, style, or structure to another**. This could involve a wide range of tasks, such as converting text to a different language, changing the format of data, rephrasing sentences, summarizing information, or even converting text into structured data formats like JSON or XML."
      ],
      "metadata": {
        "id": "WGBR_RgEaMhW"
      },
      "id": "WGBR_RgEaMhW"
    },
    {
      "cell_type": "markdown",
      "source": [
        "### Key Aspects of Transforming in Prompt Engineering\n",
        "- **Clear Instructions**: The prompt should clearly specify what transformation is required. This includes defining the input format and the desired output format.\n",
        "- **Example-Based Guidance**: Providing examples of the input and output can help the model understand the transformation process better.\n",
        "- **Context Awareness**: The transformation should take into account the context of the input to produce accurate and relevant outputs."
      ],
      "metadata": {
        "id": "VJdjjOvlagj6"
      },
      "id": "VJdjjOvlagj6"
    },
    {
      "cell_type": "markdown",
      "source": [
        "## Setup"
      ],
      "metadata": {
        "id": "1VL1vEva97yI"
      },
      "id": "1VL1vEva97yI"
    },
    {
      "cell_type": "code",
      "source": [
        "!pip install openai"
      ],
      "metadata": {
        "colab": {
          "base_uri": "https://localhost:8080/"
        },
        "collapsed": true,
        "id": "Ued_418AogZz",
        "outputId": "d66f1cfc-f29a-42f4-e7cc-e9eb8804703d"
      },
      "execution_count": 2,
      "outputs": [
        {
          "output_type": "stream",
          "name": "stdout",
          "text": [
            "Collecting openai\n",
            "  Downloading openai-1.35.3-py3-none-any.whl (327 kB)\n",
            "\u001b[2K     \u001b[90m━━━━━━━━━━━━━━━━━━━━━━━━━━━━━━━━━━━━━━━━\u001b[0m \u001b[32m327.4/327.4 kB\u001b[0m \u001b[31m5.0 MB/s\u001b[0m eta \u001b[36m0:00:00\u001b[0m\n",
            "\u001b[?25hRequirement already satisfied: anyio<5,>=3.5.0 in /usr/local/lib/python3.10/dist-packages (from openai) (3.7.1)\n",
            "Requirement already satisfied: distro<2,>=1.7.0 in /usr/lib/python3/dist-packages (from openai) (1.7.0)\n",
            "Collecting httpx<1,>=0.23.0 (from openai)\n",
            "  Downloading httpx-0.27.0-py3-none-any.whl (75 kB)\n",
            "\u001b[2K     \u001b[90m━━━━━━━━━━━━━━━━━━━━━━━━━━━━━━━━━━━━━━━━\u001b[0m \u001b[32m75.6/75.6 kB\u001b[0m \u001b[31m6.1 MB/s\u001b[0m eta \u001b[36m0:00:00\u001b[0m\n",
            "\u001b[?25hRequirement already satisfied: pydantic<3,>=1.9.0 in /usr/local/lib/python3.10/dist-packages (from openai) (2.7.4)\n",
            "Requirement already satisfied: sniffio in /usr/local/lib/python3.10/dist-packages (from openai) (1.3.1)\n",
            "Requirement already satisfied: tqdm>4 in /usr/local/lib/python3.10/dist-packages (from openai) (4.66.4)\n",
            "Requirement already satisfied: typing-extensions<5,>=4.7 in /usr/local/lib/python3.10/dist-packages (from openai) (4.12.2)\n",
            "Requirement already satisfied: idna>=2.8 in /usr/local/lib/python3.10/dist-packages (from anyio<5,>=3.5.0->openai) (3.7)\n",
            "Requirement already satisfied: exceptiongroup in /usr/local/lib/python3.10/dist-packages (from anyio<5,>=3.5.0->openai) (1.2.1)\n",
            "Requirement already satisfied: certifi in /usr/local/lib/python3.10/dist-packages (from httpx<1,>=0.23.0->openai) (2024.6.2)\n",
            "Collecting httpcore==1.* (from httpx<1,>=0.23.0->openai)\n",
            "  Downloading httpcore-1.0.5-py3-none-any.whl (77 kB)\n",
            "\u001b[2K     \u001b[90m━━━━━━━━━━━━━━━━━━━━━━━━━━━━━━━━━━━━━━━━\u001b[0m \u001b[32m77.9/77.9 kB\u001b[0m \u001b[31m5.5 MB/s\u001b[0m eta \u001b[36m0:00:00\u001b[0m\n",
            "\u001b[?25hCollecting h11<0.15,>=0.13 (from httpcore==1.*->httpx<1,>=0.23.0->openai)\n",
            "  Downloading h11-0.14.0-py3-none-any.whl (58 kB)\n",
            "\u001b[2K     \u001b[90m━━━━━━━━━━━━━━━━━━━━━━━━━━━━━━━━━━━━━━━━\u001b[0m \u001b[32m58.3/58.3 kB\u001b[0m \u001b[31m4.8 MB/s\u001b[0m eta \u001b[36m0:00:00\u001b[0m\n",
            "\u001b[?25hRequirement already satisfied: annotated-types>=0.4.0 in /usr/local/lib/python3.10/dist-packages (from pydantic<3,>=1.9.0->openai) (0.7.0)\n",
            "Requirement already satisfied: pydantic-core==2.18.4 in /usr/local/lib/python3.10/dist-packages (from pydantic<3,>=1.9.0->openai) (2.18.4)\n",
            "Installing collected packages: h11, httpcore, httpx, openai\n",
            "Successfully installed h11-0.14.0 httpcore-1.0.5 httpx-0.27.0 openai-1.35.3\n"
          ]
        }
      ],
      "id": "Ued_418AogZz"
    },
    {
      "cell_type": "code",
      "source": [
        "import openai\n",
        "import os\n",
        "from google.colab import userdata"
      ],
      "metadata": {
        "id": "m39DjFvJoI0H"
      },
      "execution_count": 3,
      "outputs": [],
      "id": "m39DjFvJoI0H"
    },
    {
      "cell_type": "code",
      "source": [
        "from pprint import pprint"
      ],
      "metadata": {
        "id": "FBexQysn5fl5"
      },
      "execution_count": 4,
      "outputs": [],
      "id": "FBexQysn5fl5"
    },
    {
      "cell_type": "code",
      "source": [
        "print(openai.__version__)"
      ],
      "metadata": {
        "colab": {
          "base_uri": "https://localhost:8080/"
        },
        "id": "dswy5j-noziQ",
        "outputId": "3a30af24-e019-4f10-840c-f88c150a3772"
      },
      "execution_count": 22,
      "outputs": [
        {
          "output_type": "stream",
          "name": "stdout",
          "text": [
            "1.35.3\n"
          ]
        }
      ],
      "id": "dswy5j-noziQ"
    },
    {
      "cell_type": "code",
      "source": [
        "openai_api_key = userdata.get(\"OPENAI_API_KEY\")\n",
        "os.environ[\"OPENAI_API_KEY\"] = openai_api_key"
      ],
      "metadata": {
        "id": "JzhXT5sAnTLA"
      },
      "execution_count": 23,
      "outputs": [],
      "id": "JzhXT5sAnTLA"
    },
    {
      "cell_type": "code",
      "source": [
        "client = openai.OpenAI()\n",
        "\n",
        "def get_completion(prompt, model=\"gpt-3.5-turbo\"):\n",
        "    messages = [{\"role\": \"user\", \"content\": prompt}]\n",
        "    response = client.chat.completions.create(\n",
        "        model=model,\n",
        "        messages=messages,\n",
        "        temperature=0\n",
        "    )\n",
        "    return response.choices[0].message.content"
      ],
      "metadata": {
        "id": "47w3YM77pZG6"
      },
      "execution_count": 24,
      "outputs": [],
      "id": "47w3YM77pZG6"
    },
    {
      "cell_type": "markdown",
      "id": "1d8f0bd8-628e-4c36-bcd0-2110162f25fc",
      "metadata": {
        "id": "1d8f0bd8-628e-4c36-bcd0-2110162f25fc"
      },
      "source": [
        "## Translation\n",
        "\n",
        "ChatGPT is trained with sources in many languages. This gives the model the ability to do translation. Here are some examples of how to use this capability."
      ]
    },
    {
      "cell_type": "code",
      "execution_count": 26,
      "id": "9c4df6ff",
      "metadata": {
        "height": 115,
        "tags": [],
        "colab": {
          "base_uri": "https://localhost:8080/"
        },
        "id": "9c4df6ff",
        "outputId": "c4688218-2795-4691-83d9-875af83a091f"
      },
      "outputs": [
        {
          "output_type": "stream",
          "name": "stdout",
          "text": [
            "Hola, me gustaría ordenar una licuadora.\n"
          ]
        }
      ],
      "source": [
        "# simple translation\n",
        "prompt = f\"\"\"\n",
        "Translate the following English text to Spanish: \\\n",
        "```Hi, I would like to order a blender```\n",
        "\"\"\"\n",
        "response = get_completion(prompt)\n",
        "print(response)"
      ]
    },
    {
      "cell_type": "code",
      "execution_count": 27,
      "id": "7300ed9b",
      "metadata": {
        "height": 115,
        "tags": [],
        "colab": {
          "base_uri": "https://localhost:8080/"
        },
        "id": "7300ed9b",
        "outputId": "d8b00ffd-3711-49ac-e07c-20d9270a1977"
      },
      "outputs": [
        {
          "output_type": "stream",
          "name": "stdout",
          "text": [
            "This is French.\n"
          ]
        }
      ],
      "source": [
        "# exemple 1 - identifying a language\n",
        "prompt = f\"\"\"\n",
        "Tell me which language this is:\n",
        "```Combien coûte le lampadaire?```\n",
        "\"\"\"\n",
        "response = get_completion(prompt)\n",
        "print(response)"
      ]
    },
    {
      "cell_type": "code",
      "execution_count": 28,
      "metadata": {
        "height": 115,
        "tags": [],
        "colab": {
          "base_uri": "https://localhost:8080/"
        },
        "outputId": "dc9b34d8-1516-47a7-9a01-814df1252366",
        "id": "7duCdfwihYzA"
      },
      "outputs": [
        {
          "output_type": "stream",
          "name": "stdout",
          "text": [
            "This is Bengali language.\n"
          ]
        }
      ],
      "source": [
        "# exemple 2 - identifying a language\n",
        "prompt = f\"\"\"\n",
        "Tell me which language this is:\n",
        "```বাতির দাম কত```\n",
        "\"\"\"\n",
        "response = get_completion(prompt)\n",
        "print(response)"
      ],
      "id": "7duCdfwihYzA"
    },
    {
      "cell_type": "code",
      "execution_count": 29,
      "metadata": {
        "height": 115,
        "tags": [],
        "colab": {
          "base_uri": "https://localhost:8080/"
        },
        "outputId": "8f35fa70-39c4-41e4-d2d5-b4b499bfe44f",
        "id": "6bIQt9meiAvO"
      },
      "outputs": [
        {
          "output_type": "stream",
          "name": "stdout",
          "text": [
            "This is in Filipino/Tagalog language.\n"
          ]
        }
      ],
      "source": [
        "# exemple 2 - identifying a language\n",
        "prompt = f\"\"\"\n",
        "Tell me which language this is:\n",
        "```Pila ang gasto sa lampara```\n",
        "\"\"\"\n",
        "response = get_completion(prompt)\n",
        "print(response)"
      ],
      "id": "6bIQt9meiAvO"
    },
    {
      "cell_type": "code",
      "execution_count": 42,
      "id": "791e789b",
      "metadata": {
        "height": 132,
        "tags": [],
        "colab": {
          "base_uri": "https://localhost:8080/"
        },
        "id": "791e789b",
        "outputId": "1ed55d9b-6866-4d68-cbf8-0ab64040beeb"
      },
      "outputs": [
        {
          "output_type": "stream",
          "name": "stdout",
          "text": [
            "French: J'ai un fils\n",
            "Spanish: Tengo un hijo\n",
            "English: I have a son\n",
            "English Pirate: I be havin' a son\n",
            "Brummies: I got a son\n"
          ]
        }
      ],
      "source": [
        "# multiple language translations including dialect!\n",
        "prompt = f\"\"\"\n",
        "Translate the following  text to French and Spanish\n",
        "and English and English pirate and brummies: \\\n",
        "```I have a son```\n",
        "\"\"\"\n",
        "response = get_completion(prompt)\n",
        "print(response)"
      ]
    },
    {
      "cell_type": "markdown",
      "source": [
        "NB: the Brummies language is a dialect from Birminghan, used in the famous Netflix series: Peaky Blinders."
      ],
      "metadata": {
        "id": "kRPNwEOWkEpK"
      },
      "id": "kRPNwEOWkEpK"
    },
    {
      "cell_type": "code",
      "execution_count": 43,
      "id": "fcf7eb63",
      "metadata": {
        "height": 132,
        "tags": [],
        "colab": {
          "base_uri": "https://localhost:8080/"
        },
        "id": "fcf7eb63",
        "outputId": "91b38809-d97b-4541-ac96-72c0493bbf55"
      },
      "outputs": [
        {
          "output_type": "stream",
          "name": "stdout",
          "text": [
            "Formal: ¿Le gustaría ordenar una almohada?\n",
            "Informal: ¿Te gustaría ordenar una almohada?\n"
          ]
        }
      ],
      "source": [
        "# translation with tones\n",
        "prompt = f\"\"\"\n",
        "Translate the following text to Spanish in both the \\\n",
        "formal and informal forms:\n",
        "'Would you like to order a pillow?'\n",
        "\"\"\"\n",
        "response = get_completion(prompt)\n",
        "print(response)"
      ]
    },
    {
      "cell_type": "markdown",
      "source": [
        "NB: in the example above, we are using single quote instead of backticks, it does not really matter, what is essential is to denote a clear separation between the prompt and the context to solve."
      ],
      "metadata": {
        "id": "0zl1-GbFloeY"
      },
      "id": "0zl1-GbFloeY"
    },
    {
      "cell_type": "markdown",
      "id": "8edb56d2-a32a-470f-9f40-4fc5b1ea0849",
      "metadata": {
        "id": "8edb56d2-a32a-470f-9f40-4fc5b1ea0849"
      },
      "source": [
        "### Universal Translator\n",
        "Imagine you are in charge of IT at a large multinational e-commerce company. Users are messaging you with IT issues in all their native languages. Your staff is from all over the world and speaks only their native languages. You need a universal translator!"
      ]
    },
    {
      "cell_type": "code",
      "execution_count": 44,
      "id": "68a40bf0",
      "metadata": {
        "height": 132,
        "tags": [],
        "id": "68a40bf0"
      },
      "outputs": [],
      "source": [
        "# several IT messages given by users in different languages.\n",
        "user_messages = [\n",
        "  \"La performance du système est plus lente que d'habitude.\",  # System performance is slower than normal\n",
        "  \"Mi monitor tiene píxeles que no se iluminan.\",              # My monitor has pixels that are not lighting\n",
        "  \"Il mio mouse non funziona\",                                 # My mouse is not working\n",
        "  \"Mój klawisz Ctrl jest zepsuty\",                             # My keyboard has a broken control key\n",
        "  \"我的屏幕在闪烁\"                                               # My screen is flashing\n",
        "]"
      ]
    },
    {
      "cell_type": "code",
      "execution_count": null,
      "id": "552d0db9",
      "metadata": {
        "height": 200,
        "tags": [],
        "colab": {
          "base_uri": "https://localhost:8080/"
        },
        "id": "552d0db9",
        "outputId": "e37501ad-15f5-4cb7-c893-6ad4fa5bbd7d"
      },
      "outputs": [
        {
          "output_type": "stream",
          "name": "stdout",
          "text": [
            "Original message (This is French.): La performance du système est plus lente que d'habitude.\n",
            "English: \"The system performance is slower than usual.\"\n",
            "Korean: \"시스템 성능이 평소보다 느립니다.\" \n",
            "\n",
            "Original message (This is Spanish.): Mi monitor tiene píxeles que no se iluminan.\n",
            "English: \"My monitor has pixels that do not light up.\"\n",
            "\n",
            "Korean: \"내 모니터에는 불이 켜지지 않는 픽셀이 있습니다.\" \n",
            "\n",
            "Original message (Italian): Il mio mouse non funziona\n",
            "English: My mouse is not working\n",
            "Korean: 내 마우스가 작동하지 않습니다 \n",
            "\n",
            "Original message (This is Polish.): Mój klawisz Ctrl jest zepsuty\n",
            "English: My Ctrl key is broken\n",
            "Korean: 제 Ctrl 키가 고장 났어요 \n",
            "\n",
            "Original message (This is Chinese.): 我的屏幕在闪烁\n",
            "English: My screen is flickering\n",
            "Korean: 내 화면이 깜박거립니다 \n",
            "\n"
          ]
        }
      ],
      "source": [
        "for issue in user_messages:\n",
        "    prompt = f\"Tell me what language this is: ```{issue}```\"\n",
        "    lang = get_completion(prompt)\n",
        "    print(f\"Original message ({lang}): {issue}\")\n",
        "\n",
        "    prompt = f\"\"\"\n",
        "    Translate the following  text to English \\\n",
        "    and Korean: ```{issue}```\n",
        "    \"\"\"\n",
        "    response = get_completion(prompt)\n",
        "    print(response, \"\\n\")"
      ]
    },
    {
      "cell_type": "markdown",
      "source": [
        "NB: the code output gives you\n",
        "- the original message, indicating the language as well, then\n",
        "- the message will be translated into English and Korean."
      ],
      "metadata": {
        "id": "ku4p5tzDmw1b"
      },
      "id": "ku4p5tzDmw1b"
    },
    {
      "cell_type": "markdown",
      "id": "18e660eb-324f-474c-acf3-7e3bf5b7c70e",
      "metadata": {
        "id": "18e660eb-324f-474c-acf3-7e3bf5b7c70e"
      },
      "source": [
        "## Try it yourself!\n",
        "Try some translations on your own!"
      ]
    },
    {
      "cell_type": "code",
      "execution_count": null,
      "id": "fa57158f-d77d-42d1-94fe-17fa59c012f8",
      "metadata": {
        "height": 30,
        "id": "fa57158f-d77d-42d1-94fe-17fa59c012f8"
      },
      "outputs": [],
      "source": []
    },
    {
      "cell_type": "markdown",
      "id": "1d9e54ca-f93a-43c8-a295-bff7a89f77f5",
      "metadata": {
        "id": "1d9e54ca-f93a-43c8-a295-bff7a89f77f5"
      },
      "source": [
        "## Tone Transformation\n",
        "Writing can vary based on the intended audience. ChatGPT can produce different tones.\n"
      ]
    },
    {
      "cell_type": "code",
      "execution_count": null,
      "id": "2deac328",
      "metadata": {
        "height": 115,
        "tags": [],
        "colab": {
          "base_uri": "https://localhost:8080/"
        },
        "id": "2deac328",
        "outputId": "33135e6d-2cfe-4b60-ae5d-4a790f657ee9"
      },
      "outputs": [
        {
          "output_type": "stream",
          "name": "stdout",
          "text": [
            "Dear Sir/Madam,\n",
            "\n",
            "I am writing to bring to your attention the specifications of a standing lamp that I believe may be of interest to you. \n",
            "\n",
            "Sincerely,\n",
            "Joe\n"
          ]
        }
      ],
      "source": [
        "prompt = f\"\"\"\n",
        "Translate the following from slang to a business letter:\n",
        "'Dude, This is Joe, check out this spec on this standing lamp.'\n",
        "\"\"\"\n",
        "response = get_completion(prompt)\n",
        "print(response)"
      ]
    },
    {
      "cell_type": "markdown",
      "id": "a2c7eb73-6b82-442d-b4f8-251c308e89d5",
      "metadata": {
        "id": "a2c7eb73-6b82-442d-b4f8-251c308e89d5"
      },
      "source": [
        "## Format Conversion\n",
        "ChatGPT can translate between formats. The prompt should describe the input and output formats."
      ]
    },
    {
      "cell_type": "code",
      "execution_count": null,
      "id": "5a37f0a0",
      "metadata": {
        "height": 217,
        "tags": [],
        "colab": {
          "base_uri": "https://localhost:8080/"
        },
        "id": "5a37f0a0",
        "outputId": "402d88ec-307d-4ca2-d101-923edcb799a0"
      },
      "outputs": [
        {
          "output_type": "stream",
          "name": "stdout",
          "text": [
            "<html>\n",
            "<head>\n",
            "    <title>Restaurant Employees</title>\n",
            "</head>\n",
            "<body>\n",
            "    <table border=\"1\">\n",
            "        <tr>\n",
            "            <th>Name</th>\n",
            "            <th>Email</th>\n",
            "        </tr>\n",
            "        <tr>\n",
            "            <td>Shyam</td>\n",
            "            <td>shyamjaiswal@gmail.com</td>\n",
            "        </tr>\n",
            "        <tr>\n",
            "            <td>Bob</td>\n",
            "            <td>bob32@gmail.com</td>\n",
            "        </tr>\n",
            "        <tr>\n",
            "            <td>Jai</td>\n",
            "            <td>jai87@gmail.com</td>\n",
            "        </tr>\n",
            "    </table>\n",
            "</body>\n",
            "</html>\n"
          ]
        }
      ],
      "source": [
        "data_json = { \"restaurant employees\" :[\n",
        "    {\"name\":\"Shyam\", \"email\":\"shyamjaiswal@gmail.com\"},\n",
        "    {\"name\":\"Bob\", \"email\":\"bob32@gmail.com\"},\n",
        "    {\"name\":\"Jai\", \"email\":\"jai87@gmail.com\"}\n",
        "]}\n",
        "\n",
        "prompt = f\"\"\"\n",
        "Translate the following python dictionary from JSON to an HTML \\\n",
        "table with column headers and title: {data_json}\n",
        "\"\"\"\n",
        "response = get_completion(prompt)\n",
        "print(response)"
      ]
    },
    {
      "cell_type": "code",
      "execution_count": null,
      "id": "481a46b7",
      "metadata": {
        "height": 47,
        "tags": [],
        "colab": {
          "base_uri": "https://localhost:8080/",
          "height": 114
        },
        "id": "481a46b7",
        "outputId": "603755a0-f41d-44e9-c069-225d4ace067c"
      },
      "outputs": [
        {
          "output_type": "display_data",
          "data": {
            "text/plain": [
              "<IPython.core.display.HTML object>"
            ],
            "text/html": [
              "<html>\n",
              "<head>\n",
              "    <title>Restaurant Employees</title>\n",
              "</head>\n",
              "<body>\n",
              "    <table border=\"1\">\n",
              "        <tr>\n",
              "            <th>Name</th>\n",
              "            <th>Email</th>\n",
              "        </tr>\n",
              "        <tr>\n",
              "            <td>Shyam</td>\n",
              "            <td>shyamjaiswal@gmail.com</td>\n",
              "        </tr>\n",
              "        <tr>\n",
              "            <td>Bob</td>\n",
              "            <td>bob32@gmail.com</td>\n",
              "        </tr>\n",
              "        <tr>\n",
              "            <td>Jai</td>\n",
              "            <td>jai87@gmail.com</td>\n",
              "        </tr>\n",
              "    </table>\n",
              "</body>\n",
              "</html>"
            ]
          },
          "metadata": {}
        }
      ],
      "source": [
        "from IPython.display import display, Markdown, Latex, HTML, JSON\n",
        "display(HTML(response))"
      ]
    },
    {
      "cell_type": "markdown",
      "id": "2df1824c-534b-45cb-b0c1-3000bba5adbe",
      "metadata": {
        "id": "2df1824c-534b-45cb-b0c1-3000bba5adbe"
      },
      "source": [
        "## Spellcheck/Grammar check.\n",
        "\n",
        "Here are some examples of common grammar and spelling problems and the LLM's response.\n",
        "\n",
        "To signal to the LLM that you want it to proofread your text, you instruct the model to 'proofread' or 'proofread and correct'."
      ]
    },
    {
      "cell_type": "code",
      "execution_count": null,
      "id": "52d77283",
      "metadata": {
        "height": 302,
        "tags": [],
        "colab": {
          "base_uri": "https://localhost:8080/"
        },
        "id": "52d77283",
        "outputId": "d40ee930-e6c5-4b8e-884b-3ad317afbbb2"
      },
      "outputs": [
        {
          "output_type": "stream",
          "name": "stdout",
          "text": [
            "The girl with the black and white puppies has a ball.\n",
            "No errors found\n",
            "No errors found.\n",
            "There goes my freedom. They're going to bring their suitcases.\n",
            "You're going to need your notebook.\n",
            "No errors found.\n",
            "No errors found\n"
          ]
        }
      ],
      "source": [
        "# spellcheck and grammar check\n",
        "text = [\n",
        "  \"The girl with the black and white puppies have a ball.\",  # The girl has a ball.\n",
        "  \"Yolanda has her notebook.\", # ok\n",
        "  \"Its going to be a long day. Does the car need it’s oil changed?\",  # Homonyms\n",
        "  \"Their goes my freedom. There going to bring they’re suitcases.\",  # Homonyms\n",
        "  \"Your going to need you’re notebook.\",  # Homonyms\n",
        "  \"That medicine effects my ability to sleep. Have you heard of the butterfly affect?\", # Homonyms\n",
        "  \"This phrase is to cherck chatGPT for speling abilitty\"  # spelling\n",
        "]\n",
        "for t in text:\n",
        "    prompt = f\"\"\"Proofread and correct the following text\n",
        "    and rewrite the corrected version. If you don't find\n",
        "    and errors, just say \"No errors found\". Don't use\n",
        "    any punctuation around the text:\n",
        "    ```{t}```\"\"\"\n",
        "    response = get_completion(prompt)\n",
        "    print(response)"
      ]
    },
    {
      "cell_type": "code",
      "execution_count": 46,
      "id": "7543fe7d",
      "metadata": {
        "height": 234,
        "tags": [],
        "colab": {
          "base_uri": "https://localhost:8080/"
        },
        "id": "7543fe7d",
        "outputId": "195df0cb-3cdc-425e-9621-0991d976f904"
      },
      "outputs": [
        {
          "output_type": "stream",
          "name": "stdout",
          "text": [
            "('I got this for my daughter for her birthday because she keeps taking mine '\n",
            " 'from my room. Yes, adults also like pandas too. She takes it everywhere with '\n",
            " \"her, and it's super soft and cute. One of the ears is a bit lower than the \"\n",
            " \"other, and I don't think that was designed to be asymmetrical. It's a bit \"\n",
            " 'small for what I paid for it though. I think there might be other options '\n",
            " 'that are bigger for the same price. It arrived a day earlier than expected, '\n",
            " 'so I got to play with it myself before I gave it to my daughter.')\n"
          ]
        }
      ],
      "source": [
        "# proofread and text revision\n",
        "text = f\"\"\"\n",
        "Got this for my daughter for her birthday cuz she keeps taking \\\n",
        "mine from my room.  Yes, adults also like pandas too.  She takes \\\n",
        "it everywhere with her, and it's super soft and cute.  One of the \\\n",
        "ears is a bit lower than the other, and I don't think that was \\\n",
        "designed to be asymmetrical. It's a bit small for what I paid for it \\\n",
        "though. I think there might be other options that are bigger for \\\n",
        "the same price.  It arrived a day earlier than expected, so I got \\\n",
        "to play with it myself before I gave it to my daughter.\n",
        "\"\"\"\n",
        "prompt = f\"proofread and correct this review: ```{text}```\"\n",
        "response = get_completion(prompt)\n",
        "pprint(response)"
      ]
    },
    {
      "cell_type": "markdown",
      "source": [
        "We can now find the diff between the original v.s. the revised text using Python redlines."
      ],
      "metadata": {
        "id": "MuCltAXfooQG"
      },
      "id": "MuCltAXfooQG"
    },
    {
      "cell_type": "code",
      "source": [
        "!pip install redlines"
      ],
      "metadata": {
        "colab": {
          "base_uri": "https://localhost:8080/"
        },
        "collapsed": true,
        "id": "nmpWOnxw-tJH",
        "outputId": "c605b633-4026-455b-da79-4f5a005c9fd5"
      },
      "id": "nmpWOnxw-tJH",
      "execution_count": 51,
      "outputs": [
        {
          "output_type": "stream",
          "name": "stdout",
          "text": [
            "Requirement already satisfied: redlines in /usr/local/lib/python3.10/dist-packages (0.4.2)\n",
            "Requirement already satisfied: click<9.0.0,>=8.1.3 in /usr/local/lib/python3.10/dist-packages (from redlines) (8.1.7)\n",
            "Requirement already satisfied: rich<14.0.0,>=13.3.5 in /usr/local/lib/python3.10/dist-packages (from redlines) (13.7.1)\n",
            "Requirement already satisfied: rich-click<2.0.0,>=1.6.1 in /usr/local/lib/python3.10/dist-packages (from redlines) (1.8.3)\n",
            "Requirement already satisfied: markdown-it-py>=2.2.0 in /usr/local/lib/python3.10/dist-packages (from rich<14.0.0,>=13.3.5->redlines) (3.0.0)\n",
            "Requirement already satisfied: pygments<3.0.0,>=2.13.0 in /usr/local/lib/python3.10/dist-packages (from rich<14.0.0,>=13.3.5->redlines) (2.16.1)\n",
            "Requirement already satisfied: typing-extensions in /usr/local/lib/python3.10/dist-packages (from rich-click<2.0.0,>=1.6.1->redlines) (4.12.2)\n",
            "Requirement already satisfied: mdurl~=0.1 in /usr/local/lib/python3.10/dist-packages (from markdown-it-py>=2.2.0->rich<14.0.0,>=13.3.5->redlines) (0.1.2)\n"
          ]
        }
      ]
    },
    {
      "cell_type": "code",
      "source": [
        "# testing the redlines\n",
        "from redlines import Redlines\n",
        "from IPython.display import display, Markdown\n",
        "\n",
        "# Example texts for comparison\n",
        "text = \"This is the original text.\"\n",
        "response = \"This is the modified text.\"\n",
        "\n",
        "# Create a Redlines object\n",
        "diff = Redlines(text, response)\n",
        "\n",
        "# Display the markdown output\n",
        "display(Markdown(diff.output_markdown))\n"
      ],
      "metadata": {
        "id": "BXJWglCTA29Z",
        "colab": {
          "base_uri": "https://localhost:8080/",
          "height": 46
        },
        "outputId": "ab89582f-5e33-4fab-9cad-d7e12858f48d"
      },
      "id": "BXJWglCTA29Z",
      "execution_count": 52,
      "outputs": [
        {
          "output_type": "display_data",
          "data": {
            "text/plain": [
              "<IPython.core.display.Markdown object>"
            ],
            "text/markdown": "This is the <span style='color:red;font-weight:700;text-decoration:line-through;'>original </span><span style='color:green;font-weight:700;'>modified </span>text."
          },
          "metadata": {}
        }
      ]
    },
    {
      "cell_type": "markdown",
      "source": [
        "NB: redlines not working in Google Colab ;-("
      ],
      "metadata": {
        "id": "sSw7tgO9AZ6D"
      },
      "id": "sSw7tgO9AZ6D"
    },
    {
      "cell_type": "code",
      "execution_count": 54,
      "id": "11ac80a0",
      "metadata": {
        "height": 81,
        "tags": [],
        "id": "11ac80a0",
        "colab": {
          "base_uri": "https://localhost:8080/",
          "height": 46
        },
        "outputId": "8ec4a43f-3265-4cfe-cda6-b4bdca131720"
      },
      "outputs": [
        {
          "output_type": "display_data",
          "data": {
            "text/plain": [
              "<IPython.core.display.Markdown object>"
            ],
            "text/markdown": "This is the <span style='color:red;font-weight:700;text-decoration:line-through;'>original </span><span style='color:green;font-weight:700;'>modified </span>text."
          },
          "metadata": {}
        }
      ],
      "source": [
        "from redlines import Redlines\n",
        "diff = Redlines(text,response)\n",
        "display(Markdown(diff.output_markdown))"
      ]
    },
    {
      "cell_type": "markdown",
      "source": [
        "The output from the code above should be as follows\n",
        "\n",
        "![image.png](data:image/png;base64,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)"
      ],
      "metadata": {
        "id": "yEa3SSPQq0dZ"
      },
      "id": "yEa3SSPQq0dZ"
    },
    {
      "cell_type": "code",
      "source": [
        "# Make the review more compelling using the APA style, and audience being advanced reader\n",
        "prompt = f\"\"\"\n",
        "proofread and correct this review. Make it more compelling.\n",
        "Ensure it follows APA style guide and targets an advanced reader.\n",
        "Output in markdown format.\n",
        "Text: ```{text}```\n",
        "\"\"\"\n",
        "response = get_completion(prompt)\n",
        "display(Markdown(response))"
      ],
      "metadata": {
        "colab": {
          "base_uri": "https://localhost:8080/",
          "height": 169
        },
        "id": "PHcSAoJ-tCEm",
        "outputId": "cf99469c-a0de-4798-b476-fcb9b8c73b2d"
      },
      "id": "PHcSAoJ-tCEm",
      "execution_count": 56,
      "outputs": [
        {
          "output_type": "display_data",
          "data": {
            "text/plain": [
              "<IPython.core.display.Markdown object>"
            ],
            "text/markdown": "**Review:**\n\nThe exquisite craftsmanship and attention to detail in this product truly sets it apart from its competitors. The intricate design and superior quality materials used make it a standout choice for those who appreciate luxury and sophistication. \n\nFurthermore, the functionality of this product is unparalleled. Its innovative features and user-friendly interface make it a must-have for anyone seeking a seamless and efficient user experience. \n\nIn conclusion, this product is a testament to superior design and innovation. Its combination of style, quality, and functionality make it a top choice for the discerning consumer. Don't miss out on the opportunity to elevate your lifestyle with this exceptional product."
          },
          "metadata": {}
        }
      ]
    },
    {
      "cell_type": "markdown",
      "source": [
        "NB: The [APA (American Psychological Association) style guide](https://apastyle.apa.org/style-grammar-guidelines) is a widely used format for writing and citing sources in academic papers, particularly within the social sciences, education, and psychology. The APA style provides a comprehensive set of guidelines for formatting documents, including the structure of the paper, in-text citations, and reference lists. The most recent edition is the 7th edition, released in October 2019."
      ],
      "metadata": {
        "id": "cJubNjH8rQAw"
      },
      "id": "cJubNjH8rQAw"
    },
    {
      "cell_type": "markdown",
      "id": "63fb76bc-a742-4b35-9dc2-f7fbc12d38fb",
      "metadata": {
        "id": "63fb76bc-a742-4b35-9dc2-f7fbc12d38fb"
      },
      "source": [
        "## Try it yourself!\n",
        "Try changing the instructions to form your own review."
      ]
    },
    {
      "cell_type": "markdown",
      "source": [
        "### Exemple 1 - Transforming an html into JSON"
      ],
      "metadata": {
        "id": "Z_hNSN6DflOI"
      },
      "id": "Z_hNSN6DflOI"
    },
    {
      "cell_type": "code",
      "source": [
        "html_content = \"\"\"\n",
        "<ul>\n",
        "    <li>Apples</li>\n",
        "    <li>Bananas</li>\n",
        "    <li>Cherries</li>\n",
        "</ul>\n",
        "\"\"\""
      ],
      "metadata": {
        "id": "dYzeqEpufYIa"
      },
      "id": "dYzeqEpufYIa",
      "execution_count": 16,
      "outputs": []
    },
    {
      "cell_type": "code",
      "source": [
        "prompt = f\"\"\"\n",
        "Transform the following HTML list into a JSON array. The HTML is delimited by triple backticks.\n",
        "\n",
        "HTML:\n",
        "```{html_content}```\n",
        "\n",
        "Expected JSON output:\n",
        "\"\"\"\n",
        "\n",
        "# Get the response from the language model\n",
        "response = get_completion(prompt)\n",
        "print(\"Response:\", response)"
      ],
      "metadata": {
        "colab": {
          "base_uri": "https://localhost:8080/"
        },
        "id": "ckL0Qpbgfccz",
        "outputId": "572089e0-ab60-4298-95e2-6515b39946ff"
      },
      "id": "ckL0Qpbgfccz",
      "execution_count": 18,
      "outputs": [
        {
          "output_type": "stream",
          "name": "stdout",
          "text": [
            "Response: [\"Apples\", \"Bananas\", \"Cherries\"]\n"
          ]
        }
      ]
    },
    {
      "cell_type": "markdown",
      "source": [
        "### Exemple 2 - Transforming a markdown format into JSON"
      ],
      "metadata": {
        "id": "wU1lqQoMd3oE"
      },
      "id": "wU1lqQoMd3oE"
    },
    {
      "cell_type": "code",
      "source": [
        "from IPython.display import Markdown, display\n",
        "\n",
        "# List of items\n",
        "items = [\"Apples\", \"Bananas\", \"Cherries\"]\n",
        "\n",
        "# Construct the markdown list\n",
        "markdown_list = \"\\n\".join(f\"{i+1}. {item}\" for i, item in enumerate(items))\n",
        "\n",
        "# Display the markdown list\n",
        "display(Markdown(markdown_list))\n"
      ],
      "metadata": {
        "colab": {
          "base_uri": "https://localhost:8080/",
          "height": 97
        },
        "id": "p3TAlORcd8o4",
        "outputId": "230d810e-b9aa-4a27-c554-08ad87a125f9"
      },
      "id": "p3TAlORcd8o4",
      "execution_count": 14,
      "outputs": [
        {
          "output_type": "display_data",
          "data": {
            "text/plain": [
              "<IPython.core.display.Markdown object>"
            ],
            "text/markdown": "1. Apples\n2. Bananas\n3. Cherries"
          },
          "metadata": {}
        }
      ]
    },
    {
      "cell_type": "code",
      "source": [
        "prompt = f\"\"\"\n",
        "Transform the following markdown list into a JSON array. The markdown is delimited by triple backticks.\n",
        "\n",
        "HTML:\n",
        "```{markdown_list}```\n",
        "\n",
        "Expected JSON output:\n",
        "\"\"\"\n",
        "\n",
        "# Get the response from the language model\n",
        "response = get_completion(prompt)\n",
        "print(\"Response:\", response)"
      ],
      "metadata": {
        "colab": {
          "base_uri": "https://localhost:8080/"
        },
        "id": "gaU9mfp2f_3t",
        "outputId": "ad855c96-37f7-49d3-ad93-468184e2eaf1"
      },
      "id": "gaU9mfp2f_3t",
      "execution_count": 19,
      "outputs": [
        {
          "output_type": "stream",
          "name": "stdout",
          "text": [
            "Response: [\"Apples\", \"Bananas\", \"Cherries\"]\n"
          ]
        }
      ]
    },
    {
      "cell_type": "markdown",
      "source": [
        "NB: The `json.dumps` function converts the list of items into a JSON array."
      ],
      "metadata": {
        "id": "3vte18-VcqyX"
      },
      "id": "3vte18-VcqyX"
    },
    {
      "cell_type": "markdown",
      "id": "3dbf5020-7d7f-4ba5-840b-20e883cd7c99",
      "metadata": {
        "id": "3dbf5020-7d7f-4ba5-840b-20e883cd7c99"
      },
      "source": [
        "Thanks to the following sites:\n",
        "\n",
        "https://writingprompts.com/bad-grammar-examples/\n"
      ]
    }
  ],
  "metadata": {
    "kernelspec": {
      "display_name": "Python 3 (ipykernel)",
      "language": "python",
      "name": "python3"
    },
    "language_info": {
      "codemirror_mode": {
        "name": "ipython",
        "version": 3
      },
      "file_extension": ".py",
      "mimetype": "text/x-python",
      "name": "python",
      "nbconvert_exporter": "python",
      "pygments_lexer": "ipython3",
      "version": "3.9.19"
    },
    "colab": {
      "provenance": [],
      "include_colab_link": true
    }
  },
  "nbformat": 4,
  "nbformat_minor": 5
}