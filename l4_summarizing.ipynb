{
  "cells": [
    {
      "cell_type": "markdown",
      "metadata": {
        "id": "view-in-github",
        "colab_type": "text"
      },
      "source": [
        "<a href=\"https://colab.research.google.com/github/royam0820/prompt-engineering/blob/main/l4_summarizing.ipynb\" target=\"_parent\"><img src=\"https://colab.research.google.com/assets/colab-badge.svg\" alt=\"Open In Colab\"/></a>"
      ]
    },
    {
      "cell_type": "markdown",
      "id": "87857393-6369-4b66-87c9-5f3253edf28e",
      "metadata": {
        "id": "87857393-6369-4b66-87c9-5f3253edf28e"
      },
      "source": [
        "# Summarizing\n",
        "In this lesson, you will summarize text with a focus on specific topics.\n"
      ]
    },
    {
      "cell_type": "markdown",
      "source": [
        "**Summarizing** is a technique of guiding an AI model to produce a **condensed version of a given text**. This involves crafting prompts that instruct the model to extract and present the main points or essential information from a larger body of text. The goal is to obtain a shorter, coherent summary that **retains the key ideas and relevant details while omitting unnecessary or redundant information**."
      ],
      "metadata": {
        "id": "hWxOx3ryRCIu"
      },
      "id": "hWxOx3ryRCIu"
    },
    {
      "cell_type": "markdown",
      "source": [
        "### Tips for effective prompt summarizing\n",
        "- Use clear and direct language in the prompt.\n",
        "- Specify the desired length or format of the summary.\n",
        "- Provide any necessary context to aid accurate summarization.\n",
        "- Test and iterate on prompts to refine the quality of summaries produced."
      ],
      "metadata": {
        "id": "wil_5I9mRQ_U"
      },
      "id": "wil_5I9mRQ_U"
    },
    {
      "cell_type": "markdown",
      "source": [
        "## Setup"
      ],
      "metadata": {
        "id": "gUaqqSO86bEQ"
      },
      "id": "gUaqqSO86bEQ"
    },
    {
      "cell_type": "code",
      "source": [
        "!pip install openai"
      ],
      "metadata": {
        "colab": {
          "base_uri": "https://localhost:8080/"
        },
        "collapsed": true,
        "id": "Ued_418AogZz",
        "outputId": "0dcfb460-a9ba-461b-d985-4c879e62700f"
      },
      "execution_count": null,
      "outputs": [
        {
          "output_type": "stream",
          "name": "stdout",
          "text": [
            "Requirement already satisfied: openai in /usr/local/lib/python3.10/dist-packages (1.34.0)\n",
            "Requirement already satisfied: anyio<5,>=3.5.0 in /usr/local/lib/python3.10/dist-packages (from openai) (3.7.1)\n",
            "Requirement already satisfied: distro<2,>=1.7.0 in /usr/lib/python3/dist-packages (from openai) (1.7.0)\n",
            "Requirement already satisfied: httpx<1,>=0.23.0 in /usr/local/lib/python3.10/dist-packages (from openai) (0.27.0)\n",
            "Requirement already satisfied: pydantic<3,>=1.9.0 in /usr/local/lib/python3.10/dist-packages (from openai) (2.7.3)\n",
            "Requirement already satisfied: sniffio in /usr/local/lib/python3.10/dist-packages (from openai) (1.3.1)\n",
            "Requirement already satisfied: tqdm>4 in /usr/local/lib/python3.10/dist-packages (from openai) (4.66.4)\n",
            "Requirement already satisfied: typing-extensions<5,>=4.7 in /usr/local/lib/python3.10/dist-packages (from openai) (4.12.2)\n",
            "Requirement already satisfied: idna>=2.8 in /usr/local/lib/python3.10/dist-packages (from anyio<5,>=3.5.0->openai) (3.7)\n",
            "Requirement already satisfied: exceptiongroup in /usr/local/lib/python3.10/dist-packages (from anyio<5,>=3.5.0->openai) (1.2.1)\n",
            "Requirement already satisfied: certifi in /usr/local/lib/python3.10/dist-packages (from httpx<1,>=0.23.0->openai) (2024.6.2)\n",
            "Requirement already satisfied: httpcore==1.* in /usr/local/lib/python3.10/dist-packages (from httpx<1,>=0.23.0->openai) (1.0.5)\n",
            "Requirement already satisfied: h11<0.15,>=0.13 in /usr/local/lib/python3.10/dist-packages (from httpcore==1.*->httpx<1,>=0.23.0->openai) (0.14.0)\n",
            "Requirement already satisfied: annotated-types>=0.4.0 in /usr/local/lib/python3.10/dist-packages (from pydantic<3,>=1.9.0->openai) (0.7.0)\n",
            "Requirement already satisfied: pydantic-core==2.18.4 in /usr/local/lib/python3.10/dist-packages (from pydantic<3,>=1.9.0->openai) (2.18.4)\n"
          ]
        }
      ],
      "id": "Ued_418AogZz"
    },
    {
      "cell_type": "code",
      "source": [
        "import openai\n",
        "import os\n",
        "from google.colab import userdata"
      ],
      "metadata": {
        "id": "m39DjFvJoI0H"
      },
      "execution_count": null,
      "outputs": [],
      "id": "m39DjFvJoI0H"
    },
    {
      "cell_type": "code",
      "source": [
        "from pprint import pprint"
      ],
      "metadata": {
        "id": "FBexQysn5fl5"
      },
      "execution_count": null,
      "outputs": [],
      "id": "FBexQysn5fl5"
    },
    {
      "cell_type": "code",
      "source": [
        "print(openai.__version__)"
      ],
      "metadata": {
        "colab": {
          "base_uri": "https://localhost:8080/"
        },
        "id": "dswy5j-noziQ",
        "outputId": "cacc935c-9a79-4864-a191-33ed559886c6"
      },
      "execution_count": null,
      "outputs": [
        {
          "output_type": "stream",
          "name": "stdout",
          "text": [
            "1.34.0\n"
          ]
        }
      ],
      "id": "dswy5j-noziQ"
    },
    {
      "cell_type": "code",
      "source": [
        "openai_api_key = userdata.get(\"OPENAI_API_KEY\")\n",
        "os.environ[\"OPENAI_API_KEY\"] = openai_api_key"
      ],
      "metadata": {
        "id": "JzhXT5sAnTLA"
      },
      "execution_count": null,
      "outputs": [],
      "id": "JzhXT5sAnTLA"
    },
    {
      "cell_type": "code",
      "source": [
        "client = openai.OpenAI()\n",
        "\n",
        "def get_completion(prompt, model=\"gpt-3.5-turbo\"):\n",
        "    messages = [{\"role\": \"user\", \"content\": prompt}]\n",
        "    response = client.chat.completions.create(\n",
        "        model=model,\n",
        "        messages=messages,\n",
        "        temperature=0\n",
        "    )\n",
        "    return response.choices[0].message.content"
      ],
      "metadata": {
        "id": "47w3YM77pZG6"
      },
      "execution_count": null,
      "outputs": [],
      "id": "47w3YM77pZG6"
    },
    {
      "cell_type": "markdown",
      "id": "387b0686-bea6-41a2-b879-88721dc0ec10",
      "metadata": {
        "id": "387b0686-bea6-41a2-b879-88721dc0ec10"
      },
      "source": [
        "## Text to summarize\n",
        "\n",
        "If you have to manage an e-commerce website, this example below gives you a nice tool to summarize your product reviews by consumers."
      ]
    },
    {
      "cell_type": "code",
      "execution_count": null,
      "id": "0ce2cf3c",
      "metadata": {
        "height": 183,
        "id": "0ce2cf3c"
      },
      "outputs": [],
      "source": [
        "# text to summarize\n",
        "prod_review = \"\"\"\n",
        "Got this panda plush toy for my daughter's birthday, \\\n",
        "who loves it and takes it everywhere. It's soft and \\\n",
        "super cute, and its face has a friendly look. It's \\\n",
        "a bit small for what I paid though. I think there \\\n",
        "might be other options that are bigger for the \\\n",
        "same price. It arrived a day earlier than expected, \\\n",
        "so I got to play with it myself before I gave it \\\n",
        "to her.\n",
        "\"\"\""
      ]
    },
    {
      "cell_type": "markdown",
      "id": "5d95eba0-7744-491a-a30a-8ee687303b7a",
      "metadata": {
        "id": "5d95eba0-7744-491a-a30a-8ee687303b7a"
      },
      "source": [
        "## Summarize with a word/sentence/character limit"
      ]
    },
    {
      "cell_type": "code",
      "execution_count": null,
      "id": "0c3023c6",
      "metadata": {
        "height": 234,
        "colab": {
          "base_uri": "https://localhost:8080/"
        },
        "id": "0c3023c6",
        "outputId": "e64afd1c-b97e-43a0-b640-996174940ded"
      },
      "outputs": [
        {
          "output_type": "stream",
          "name": "stdout",
          "text": [
            "('Summary: \\n'\n",
            " 'Panda plush toy is soft, cute, and loved by daughter. Arrived early, but '\n",
            " 'smaller than expected for the price. Consider larger options.')\n"
          ]
        }
      ],
      "source": [
        "# prompt summarizing - limit the output to 30 words\n",
        "prompt = f\"\"\"\n",
        "Your task is to generate a short summary of a product \\\n",
        "review from an ecommerce site.\n",
        "\n",
        "Summarize the review below, delimited by triple\n",
        "backticks, in at most 30 words.\n",
        "\n",
        "Review: ```{prod_review}```\n",
        "\"\"\"\n",
        "\n",
        "response = get_completion(prompt)\n",
        "pprint(response)\n"
      ]
    },
    {
      "cell_type": "markdown",
      "id": "90832908-3b3a-459b-b595-bbe15c2a72fa",
      "metadata": {
        "id": "90832908-3b3a-459b-b595-bbe15c2a72fa"
      },
      "source": [
        "## Summarize with a focus on shipping and delivery"
      ]
    },
    {
      "cell_type": "code",
      "execution_count": null,
      "id": "d850bdd2",
      "metadata": {
        "height": 268,
        "colab": {
          "base_uri": "https://localhost:8080/"
        },
        "id": "d850bdd2",
        "outputId": "f02114e2-fcb1-4379-bb6e-73dbaa847647"
      },
      "outputs": [
        {
          "output_type": "stream",
          "name": "stdout",
          "text": [
            "('The customer received the panda plush toy a day earlier than expected, '\n",
            " 'allowing them to enjoy it before gifting it.')\n"
          ]
        }
      ],
      "source": [
        "# prompt summarizing - limit 30 words; focus on shipping and delivery\n",
        "prompt = f\"\"\"\n",
        "Your task is to generate a short summary of a product \\\n",
        "review from an ecommerce site to give feedback to the \\\n",
        "Shipping deparmtment.\n",
        "\n",
        "Summarize the review below, delimited by triple\n",
        "backticks, in at most 30 words, and focusing on any aspects \\\n",
        "that mention shipping and delivery of the product.\n",
        "\n",
        "Review: ```{prod_review}```\n",
        "\"\"\"\n",
        "\n",
        "response = get_completion(prompt)\n",
        "pprint(response)\n"
      ]
    },
    {
      "cell_type": "markdown",
      "id": "01204385-1d27-420c-80ee-bd4b524550f6",
      "metadata": {
        "id": "01204385-1d27-420c-80ee-bd4b524550f6"
      },
      "source": [
        "## Summarize with a focus on price and value"
      ]
    },
    {
      "cell_type": "code",
      "execution_count": null,
      "id": "6d865432",
      "metadata": {
        "height": 285,
        "colab": {
          "base_uri": "https://localhost:8080/"
        },
        "id": "6d865432",
        "outputId": "ae8fecad-f567-4280-ffc7-36a1a4a5b050"
      },
      "outputs": [
        {
          "output_type": "stream",
          "name": "stdout",
          "text": [
            "('The panda plush toy is soft, cute, and loved by the daughter. However, the '\n",
            " \"reviewer feels it's a bit small for the price paid compared to other \"\n",
            " 'options.')\n"
          ]
        }
      ],
      "source": [
        "# prompt summarizing - limit 30 words; focus on price and perceived value\n",
        "prompt = f\"\"\"\n",
        "Your task is to generate a short summary of a product \\\n",
        "review from an ecommerce site to give feedback to the \\\n",
        "pricing deparmtment, responsible for determining the \\\n",
        "price of the product.\n",
        "\n",
        "Summarize the review below, delimited by triple\n",
        "backticks, in at most 30 words, and focusing on any aspects \\\n",
        "that are relevant to the price and perceived value.\n",
        "\n",
        "Review: ```{prod_review}```\n",
        "\"\"\"\n",
        "\n",
        "response = get_completion(prompt)\n",
        "pprint(response)\n"
      ]
    },
    {
      "cell_type": "markdown",
      "id": "21a561c4-d9a0-48a8-86c4-725746fb08df",
      "metadata": {
        "id": "21a561c4-d9a0-48a8-86c4-725746fb08df"
      },
      "source": [
        "#### Comment\n",
        "- Summaries include topics that are not related to the topic of focus."
      ]
    },
    {
      "cell_type": "markdown",
      "id": "9aff99cd-dc09-467c-bd09-897ffe06a232",
      "metadata": {
        "id": "9aff99cd-dc09-467c-bd09-897ffe06a232"
      },
      "source": [
        "## Try \"extract\" instead of \"summarize\""
      ]
    },
    {
      "cell_type": "code",
      "execution_count": null,
      "id": "190943b0",
      "metadata": {
        "height": 251,
        "colab": {
          "base_uri": "https://localhost:8080/"
        },
        "id": "190943b0",
        "outputId": "9fb50ad1-0348-48f4-9b65-7e033a12f7ad"
      },
      "outputs": [
        {
          "output_type": "stream",
          "name": "stdout",
          "text": [
            "Feedback: The product arrived a day earlier than expected, which was a pleasant surprise for the customer. Delivery was prompt and efficient.\n"
          ]
        }
      ],
      "source": [
        "# prompt using extraction instead of summarization to get shipping and delivery information\n",
        "prompt = f\"\"\"\n",
        "Your task is to extract relevant information from \\\n",
        "a product review from an ecommerce site to give \\\n",
        "feedback to the Shipping department.\n",
        "\n",
        "From the review below, delimited by triple quotes \\\n",
        "extract the information relevant to shipping and \\\n",
        "delivery. Limit to 30 words.\n",
        "\n",
        "Review: ```{prod_review}```\n",
        "\"\"\"\n",
        "\n",
        "response = get_completion(prompt)\n",
        "print(response)"
      ]
    },
    {
      "cell_type": "markdown",
      "id": "f513da2e-f89c-4c91-8456-b79c630e70c9",
      "metadata": {
        "id": "f513da2e-f89c-4c91-8456-b79c630e70c9"
      },
      "source": [
        "## Summarize multiple product reviews"
      ]
    },
    {
      "cell_type": "code",
      "execution_count": null,
      "id": "027822c2",
      "metadata": {
        "height": 1271,
        "id": "027822c2"
      },
      "outputs": [],
      "source": [
        "# multiple reviews - total 4 reviews\n",
        "review_1 = prod_review    # review detailed above\n",
        "\n",
        "# review for a standing lamp\n",
        "review_2 = \"\"\"\n",
        "Needed a nice lamp for my bedroom, and this one \\\n",
        "had additional storage and not too high of a price \\\n",
        "point. Got it fast - arrived in 2 days. The string \\\n",
        "to the lamp broke during the transit and the company \\\n",
        "happily sent over a new one. Came within a few days \\\n",
        "as well. It was easy to put together. Then I had a \\\n",
        "missing part, so I contacted their support and they \\\n",
        "very quickly got me the missing piece! Seems to me \\\n",
        "to be a great company that cares about their customers \\\n",
        "and products.\n",
        "\"\"\"\n",
        "\n",
        "# review for an electric toothbrush\n",
        "review_3 = \"\"\"\n",
        "My dental hygienist recommended an electric toothbrush, \\\n",
        "which is why I got this. The battery life seems to be \\\n",
        "pretty impressive so far. After initial charging and \\\n",
        "leaving the charger plugged in for the first week to \\\n",
        "condition the battery, I've unplugged the charger and \\\n",
        "been using it for twice daily brushing for the last \\\n",
        "3 weeks all on the same charge. But the toothbrush head \\\n",
        "is too small. I’ve seen baby toothbrushes bigger than \\\n",
        "this one. I wish the head was bigger with different \\\n",
        "length bristles to get between teeth better because \\\n",
        "this one doesn’t.  Overall if you can get this one \\\n",
        "around the $50 mark, it's a good deal. The manufactuer's \\\n",
        "replacements heads are pretty expensive, but you can \\\n",
        "get generic ones that're more reasonably priced. This \\\n",
        "toothbrush makes me feel like I've been to the dentist \\\n",
        "every day. My teeth feel sparkly clean!\n",
        "\"\"\"\n",
        "\n",
        "# review for a blender\n",
        "review_4 = \"\"\"\n",
        "So, they still had the 17 piece system on seasonal \\\n",
        "sale for around $49 in the month of November, about \\\n",
        "half off, but for some reason (call it price gouging) \\\n",
        "around the second week of December the prices all went \\\n",
        "up to about anywhere from between $70-$89 for the same \\\n",
        "system. And the 11 piece system went up around $10 or \\\n",
        "so in price also from the earlier sale price of $29. \\\n",
        "So it looks okay, but if you look at the base, the part \\\n",
        "where the blade locks into place doesn’t look as good \\\n",
        "as in previous editions from a few years ago, but I \\\n",
        "plan to be very gentle with it (example, I crush \\\n",
        "very hard items like beans, ice, rice, etc. in the \\\n",
        "blender first then pulverize them in the serving size \\\n",
        "I want in the blender then switch to the whipping \\\n",
        "blade for a finer flour, and use the cross cutting blade \\\n",
        "first when making smoothies, then use the flat blade \\\n",
        "if I need them finer/less pulpy). Special tip when making \\\n",
        "smoothies, finely cut and freeze the fruits and \\\n",
        "vegetables (if using spinach-lightly stew soften the \\\n",
        "spinach then freeze until ready for use-and if making \\\n",
        "sorbet, use a small to medium sized food processor) \\\n",
        "that you plan to use that way you can avoid adding so \\\n",
        "much ice if at all-when making your smoothie. \\\n",
        "After about a year, the motor was making a funny noise. \\\n",
        "I called customer service but the warranty expired \\\n",
        "already, so I had to buy another one. FYI: The overall \\\n",
        "quality has gone done in these types of products, so \\\n",
        "they are kind of counting on brand recognition and \\\n",
        "consumer loyalty to maintain sales. Got it in about \\\n",
        "two days.\n",
        "\"\"\"\n",
        "\n",
        "reviews = [review_1, review_2, review_3, review_4]\n",
        "\n"
      ]
    },
    {
      "cell_type": "code",
      "source": [
        "# using a for loop to read each review and summarize it\n",
        "for i in range(len(reviews)):\n",
        "    prompt = f\"\"\"\n",
        "    Your task is to generate a short summary of a product \\\n",
        "    review from an ecommerce site.\n",
        "\n",
        "    Summarize the review below, delimited by triple \\\n",
        "    backticks in at most 20 words.\n",
        "\n",
        "    Review: ```{reviews[i]}```\n",
        "    \"\"\"\n",
        "\n",
        "    response = get_completion(prompt)\n",
        "    print(f\"Review {i}:\")\n",
        "    pprint(response)\n",
        "    print(\"\\n\")\n",
        "\n"
      ],
      "metadata": {
        "colab": {
          "base_uri": "https://localhost:8080/"
        },
        "id": "Iitj-Oj29PnR",
        "outputId": "e18e091e-9cef-41a6-be67-c20f6205b029"
      },
      "id": "Iitj-Oj29PnR",
      "execution_count": null,
      "outputs": [
        {
          "output_type": "stream",
          "name": "stdout",
          "text": [
            "Review 0:\n",
            "('Summary: \\n'\n",
            " 'Cute panda plush toy loved by daughter, soft and friendly, but smaller than '\n",
            " 'expected for the price. Arrived early.')\n",
            "\n",
            "\n",
            "Review 1:\n",
            "('Summary: \\n'\n",
            " 'Lamp with storage, fast delivery, excellent customer service for missing '\n",
            " 'parts. Great company that cares.')\n",
            "\n",
            "\n",
            "Review 2:\n",
            "('Impressive battery life, small head, good deal for $50, expensive '\n",
            " 'replacement heads, leaves teeth feeling clean.')\n",
            "\n",
            "\n",
            "Review 3:\n",
            "('Review: Prices increased post-sale, quality decline noted, motor issue after '\n",
            " 'a year, but efficient for various tasks.')\n",
            "\n",
            "\n"
          ]
        }
      ]
    },
    {
      "cell_type": "markdown",
      "source": [
        "NB: using a `for` loop to read each review and give a summarization for each one."
      ],
      "metadata": {
        "id": "7GKZKOohU94M"
      },
      "id": "7GKZKOohU94M"
    },
    {
      "cell_type": "markdown",
      "id": "e0c9f921-8672-4124-bad6-8bee65078ccb",
      "metadata": {
        "id": "e0c9f921-8672-4124-bad6-8bee65078ccb"
      },
      "source": [
        "## Try experimenting on your own!"
      ]
    },
    {
      "cell_type": "code",
      "execution_count": null,
      "id": "d05d8a20-86f2-4613-835e-41c49a504b5b",
      "metadata": {
        "height": 30,
        "id": "d05d8a20-86f2-4613-835e-41c49a504b5b"
      },
      "outputs": [],
      "source": []
    }
  ],
  "metadata": {
    "kernelspec": {
      "display_name": "Python 3 (ipykernel)",
      "language": "python",
      "name": "python3"
    },
    "language_info": {
      "codemirror_mode": {
        "name": "ipython",
        "version": 3
      },
      "file_extension": ".py",
      "mimetype": "text/x-python",
      "name": "python",
      "nbconvert_exporter": "python",
      "pygments_lexer": "ipython3",
      "version": "3.9.19"
    },
    "colab": {
      "provenance": [],
      "include_colab_link": true
    }
  },
  "nbformat": 4,
  "nbformat_minor": 5
}